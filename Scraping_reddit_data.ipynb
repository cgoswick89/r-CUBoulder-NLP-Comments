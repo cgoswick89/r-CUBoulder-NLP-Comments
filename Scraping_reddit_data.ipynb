{
 "cells": [
  {
   "cell_type": "code",
   "execution_count": 1,
   "id": "c1738027",
   "metadata": {},
   "outputs": [],
   "source": [
    "import praw\n",
    "import pandas as pd\n",
    "from praw.models import MoreComments"
   ]
  },
  {
   "cell_type": "code",
   "execution_count": 2,
   "id": "e2cdcafa",
   "metadata": {},
   "outputs": [],
   "source": [
    "#reddit user log in\n",
    "reddit_read_only = praw.Reddit(client_id = 'JJ_URJnuIU9HvdINJ-17LQ',\n",
    "                               client_secret = 'WBd1WSOpJVnefOx2ZjIgbeA6OCfbzw',\n",
    "                               user_agent = 'appy_apperson')"
   ]
  },
  {
   "cell_type": "code",
   "execution_count": 3,
   "id": "5898d2c2",
   "metadata": {},
   "outputs": [],
   "source": [
    "#calling the subreddit we want to scrape from\n",
    "subreddit = reddit_read_only.subreddit('cuboulder')"
   ]
  },
  {
   "cell_type": "code",
   "execution_count": 4,
   "id": "a2dd9984",
   "metadata": {},
   "outputs": [
    {
     "name": "stderr",
     "output_type": "stream",
     "text": [
      "/var/folders/qr/_sqyrs1n54zc6_vg5wwvsdqr0000gn/T/ipykernel_35051/1510095379.py:3: DeprecationWarning: Positional arguments for 'BaseListingMixin.top' will no longer be supported in PRAW 8.\n",
      "Call this function with 'time_filter' as a keyword argument.\n",
      "  posts = subreddit.top('all',limit=1000)\n"
     ]
    }
   ],
   "source": [
    "#getting the info for the top posts of all time\n",
    "#it seems reddit has a limit of 1000 queries.\n",
    "posts = subreddit.top('all',limit=1000)\n",
    "\n",
    "#create a dictionary to store the data\n",
    "posts_dict = {'title':[], 'date':[],'Post Text':[], 'ID':[],\n",
    "              'score':[], 'total comments':[], 'post url':[]}\n",
    "\n",
    "#loops through and adds the posts to the dictionary\n",
    "for post in posts:\n",
    "    posts_dict['title'].append(post.title)\n",
    "    posts_dict['date'].append(post.created_utc)\n",
    "    posts_dict['Post Text'].append(post.selftext)\n",
    "    posts_dict['ID'].append(post.id)\n",
    "    posts_dict['score'].append(post.score)\n",
    "    posts_dict['total comments'].append(post.num_comments)\n",
    "    posts_dict['post url'].append(post.url)"
   ]
  },
  {
   "cell_type": "code",
   "execution_count": 5,
   "id": "0fc2a65c",
   "metadata": {},
   "outputs": [
    {
     "data": {
      "text/html": [
       "<div>\n",
       "<style scoped>\n",
       "    .dataframe tbody tr th:only-of-type {\n",
       "        vertical-align: middle;\n",
       "    }\n",
       "\n",
       "    .dataframe tbody tr th {\n",
       "        vertical-align: top;\n",
       "    }\n",
       "\n",
       "    .dataframe thead th {\n",
       "        text-align: right;\n",
       "    }\n",
       "</style>\n",
       "<table border=\"1\" class=\"dataframe\">\n",
       "  <thead>\n",
       "    <tr style=\"text-align: right;\">\n",
       "      <th></th>\n",
       "      <th>title</th>\n",
       "      <th>date</th>\n",
       "      <th>Post Text</th>\n",
       "      <th>ID</th>\n",
       "      <th>score</th>\n",
       "      <th>total comments</th>\n",
       "      <th>post url</th>\n",
       "    </tr>\n",
       "  </thead>\n",
       "  <tbody>\n",
       "    <tr>\n",
       "      <th>0</th>\n",
       "      <td>Drone shots of our desolate campus during the ...</td>\n",
       "      <td>2020-08-16 14:36:45</td>\n",
       "      <td></td>\n",
       "      <td>iate23</td>\n",
       "      <td>875</td>\n",
       "      <td>71</td>\n",
       "      <td>https://v.redd.it/selcvau5kdh51</td>\n",
       "    </tr>\n",
       "    <tr>\n",
       "      <th>1</th>\n",
       "      <td>Buff Bus Good - CU's busses were used to help ...</td>\n",
       "      <td>2021-03-23 00:52:44</td>\n",
       "      <td></td>\n",
       "      <td>mb2m07</td>\n",
       "      <td>724</td>\n",
       "      <td>17</td>\n",
       "      <td>https://i.redd.it/dfxsfufydoo61.png</td>\n",
       "    </tr>\n",
       "    <tr>\n",
       "      <th>2</th>\n",
       "      <td>this sub is so negative all the time so here’s...</td>\n",
       "      <td>2020-09-09 00:24:48</td>\n",
       "      <td></td>\n",
       "      <td>ip5lcr</td>\n",
       "      <td>695</td>\n",
       "      <td>17</td>\n",
       "      <td>https://i.redd.it/07d0706in0m51.jpg</td>\n",
       "    </tr>\n",
       "    <tr>\n",
       "      <th>3</th>\n",
       "      <td>And to the rest of you, a pleasant evening</td>\n",
       "      <td>2021-03-07 06:01:24</td>\n",
       "      <td></td>\n",
       "      <td>lzkigx</td>\n",
       "      <td>667</td>\n",
       "      <td>82</td>\n",
       "      <td>https://i.redd.it/mptmf05oqjl61.jpg</td>\n",
       "    </tr>\n",
       "    <tr>\n",
       "      <th>4</th>\n",
       "      <td>Streaming costs</td>\n",
       "      <td>2020-09-23 00:34:39</td>\n",
       "      <td></td>\n",
       "      <td>ixzx6g</td>\n",
       "      <td>627</td>\n",
       "      <td>18</td>\n",
       "      <td>https://i.redd.it/tew68s81mso51.jpg</td>\n",
       "    </tr>\n",
       "  </tbody>\n",
       "</table>\n",
       "</div>"
      ],
      "text/plain": [
       "                                               title                date  \\\n",
       "0  Drone shots of our desolate campus during the ... 2020-08-16 14:36:45   \n",
       "1  Buff Bus Good - CU's busses were used to help ... 2021-03-23 00:52:44   \n",
       "2  this sub is so negative all the time so here’s... 2020-09-09 00:24:48   \n",
       "3         And to the rest of you, a pleasant evening 2021-03-07 06:01:24   \n",
       "4                                    Streaming costs 2020-09-23 00:34:39   \n",
       "\n",
       "  Post Text      ID  score  total comments  \\\n",
       "0            iate23    875              71   \n",
       "1            mb2m07    724              17   \n",
       "2            ip5lcr    695              17   \n",
       "3            lzkigx    667              82   \n",
       "4            ixzx6g    627              18   \n",
       "\n",
       "                              post url  \n",
       "0      https://v.redd.it/selcvau5kdh51  \n",
       "1  https://i.redd.it/dfxsfufydoo61.png  \n",
       "2  https://i.redd.it/07d0706in0m51.jpg  \n",
       "3  https://i.redd.it/mptmf05oqjl61.jpg  \n",
       "4  https://i.redd.it/tew68s81mso51.jpg  "
      ]
     },
     "execution_count": 5,
     "metadata": {},
     "output_type": "execute_result"
    }
   ],
   "source": [
    "#creates a DF to store\n",
    "top_posts = pd.DataFrame(posts_dict)\n",
    "#changes the time stamp from epoch to gmt\n",
    "top_posts['date'] = pd.to_datetime(top_posts['date'], unit='s')\n",
    "top_posts.head()"
   ]
  },
  {
   "cell_type": "code",
   "execution_count": 6,
   "id": "a6b6ac5d",
   "metadata": {},
   "outputs": [
    {
     "name": "stdout",
     "output_type": "stream",
     "text": [
      "(999, 7)\n",
      "2023-03-08 18:54:25\n",
      "2016-09-02 16:37:41\n"
     ]
    }
   ],
   "source": [
    "print(top_posts.shape)\n",
    "print(top_posts.date.max())\n",
    "print(top_posts.date.min())"
   ]
  },
  {
   "cell_type": "code",
   "execution_count": 7,
   "id": "0fbe6cd9",
   "metadata": {},
   "outputs": [
    {
     "data": {
      "text/plain": [
       "(799, 8)"
      ]
     },
     "execution_count": 7,
     "metadata": {},
     "output_type": "execute_result"
    }
   ],
   "source": [
    "#filtered the results to only things since 2020\n",
    "_2020 = top_posts.loc[top_posts.date > '2020-01-01']\n",
    "#reset the index \n",
    "_2020.reset_index(inplace=True)\n",
    "_2020.shape"
   ]
  },
  {
   "cell_type": "code",
   "execution_count": null,
   "id": "8661fc87",
   "metadata": {},
   "outputs": [
    {
     "name": "stdout",
     "output_type": "stream",
     "text": [
      "Progress: 142 out of 799 complete.\r"
     ]
    }
   ],
   "source": [
    "#create a dictionary to store results\n",
    "comments = {'ID':[], 'title':[], 'date':[],'comment':[]}\n",
    "\n",
    "#run a loop through our 2020 posts by post id. \n",
    "for num in range(len(_2020)):\n",
    "    submission = reddit_read_only.submission(_2020['ID'][num])\n",
    "    submission.comments.replace_more(limit=None)\n",
    "    for comment in submission.comments.list():\n",
    "        #print(comment.body)\n",
    "        comments['ID'].append(_2020['ID'][num])\n",
    "        comments['title'].append(_2020['title'][num])\n",
    "        comments['date'].append(_2020['date'][num])\n",
    "        comments['comment'].append(comment.body)\n",
    "    print(f'Progress: {num+1} out of {len(_2020)} complete.', end='\\r' )"
   ]
  },
  {
   "cell_type": "code",
   "execution_count": null,
   "id": "432553a7",
   "metadata": {},
   "outputs": [],
   "source": [
    "#turn into a dataframe\n",
    "cu_comments = pd.DataFrame(comments)\n",
    "cu_comments.shape"
   ]
  },
  {
   "cell_type": "code",
   "execution_count": null,
   "id": "5457dfc2",
   "metadata": {},
   "outputs": [],
   "source": [
    "cu_comments.tail()"
   ]
  },
  {
   "cell_type": "code",
   "execution_count": null,
   "id": "28bb4f8e",
   "metadata": {},
   "outputs": [],
   "source": [
    "#write our results to a csv\n",
    "cu_comments.to_csv('cu_comments.csv')"
   ]
  }
 ],
 "metadata": {
  "kernelspec": {
   "display_name": "Python 3 (ipykernel)",
   "language": "python",
   "name": "python3"
  },
  "language_info": {
   "codemirror_mode": {
    "name": "ipython",
    "version": 3
   },
   "file_extension": ".py",
   "mimetype": "text/x-python",
   "name": "python",
   "nbconvert_exporter": "python",
   "pygments_lexer": "ipython3",
   "version": "3.9.12"
  }
 },
 "nbformat": 4,
 "nbformat_minor": 5
}
